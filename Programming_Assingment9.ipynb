{
 "cells": [
  {
   "cell_type": "code",
   "execution_count": 1,
   "id": "48a8aab7",
   "metadata": {},
   "outputs": [
    {
     "name": "stdout",
     "output_type": "stream",
     "text": [
      "125\n",
      "174\n",
      "175\n",
      "this is Disarium Number \n"
     ]
    }
   ],
   "source": [
    "# 1.\tWrite a Python program to check if the given number is a Disarium Number?\n",
    "number = number1 = 175\n",
    "sum = 0\n",
    "def Num_lenth(n):\n",
    "    length = 0\n",
    "    while(n!=0):\n",
    "        n = n//10\n",
    "        length+=1\n",
    "    return length\n",
    "\n",
    "len = Num_lenth(number)\n",
    "\n",
    "# print(len)\n",
    "i=0\n",
    "temp =0\n",
    "while(number>0):\n",
    "    \n",
    "    temp =number%10\n",
    "    sum = sum + int(temp**len)\n",
    "    number =number//10\n",
    "    len -=1\n",
    "    print(sum)\n",
    "   \n",
    "if(number1 == sum):\n",
    "    print(\"this is Disarium Number \")\n",
    "else :\n",
    "        print(\"not a  Disarium Number\")"
   ]
  },
  {
   "cell_type": "code",
   "execution_count": 2,
   "id": "b3826073",
   "metadata": {},
   "outputs": [
    {
     "name": "stdout",
     "output_type": "stream",
     "text": [
      "lenth is 1 and number is 1\n",
      "lenth is 1 and number is 2\n",
      "lenth is 1 and number is 3\n",
      "lenth is 1 and number is 4\n",
      "lenth is 1 and number is 5\n",
      "lenth is 1 and number is 6\n",
      "lenth is 1 and number is 7\n",
      "lenth is 1 and number is 8\n",
      "lenth is 1 and number is 9\n",
      "lenth is 2 and number is 10\n",
      "lenth is 2 and number is 11\n",
      "lenth is 2 and number is 12\n",
      "lenth is 2 and number is 13\n",
      "lenth is 2 and number is 14\n",
      "lenth is 2 and number is 15\n",
      "lenth is 2 and number is 16\n",
      "lenth is 2 and number is 17\n",
      "lenth is 2 and number is 18\n",
      "lenth is 2 and number is 19\n",
      "lenth is 2 and number is 20\n",
      "lenth is 2 and number is 21\n",
      "lenth is 2 and number is 22\n",
      "lenth is 2 and number is 23\n",
      "lenth is 2 and number is 24\n",
      "lenth is 2 and number is 25\n",
      "lenth is 2 and number is 26\n",
      "lenth is 2 and number is 27\n",
      "lenth is 2 and number is 28\n",
      "lenth is 2 and number is 29\n",
      "lenth is 2 and number is 30\n",
      "lenth is 2 and number is 31\n",
      "lenth is 2 and number is 32\n",
      "lenth is 2 and number is 33\n",
      "lenth is 2 and number is 34\n",
      "lenth is 2 and number is 35\n",
      "lenth is 2 and number is 36\n",
      "lenth is 2 and number is 37\n",
      "lenth is 2 and number is 38\n",
      "lenth is 2 and number is 39\n",
      "lenth is 2 and number is 40\n",
      "lenth is 2 and number is 41\n",
      "lenth is 2 and number is 42\n",
      "lenth is 2 and number is 43\n",
      "lenth is 2 and number is 44\n",
      "lenth is 2 and number is 45\n",
      "lenth is 2 and number is 46\n",
      "lenth is 2 and number is 47\n",
      "lenth is 2 and number is 48\n",
      "lenth is 2 and number is 49\n",
      "lenth is 2 and number is 50\n",
      "lenth is 2 and number is 51\n",
      "lenth is 2 and number is 52\n",
      "lenth is 2 and number is 53\n",
      "lenth is 2 and number is 54\n",
      "lenth is 2 and number is 55\n",
      "lenth is 2 and number is 56\n",
      "lenth is 2 and number is 57\n",
      "lenth is 2 and number is 58\n",
      "lenth is 2 and number is 59\n",
      "lenth is 2 and number is 60\n",
      "lenth is 2 and number is 61\n",
      "lenth is 2 and number is 62\n",
      "lenth is 2 and number is 63\n",
      "lenth is 2 and number is 64\n",
      "lenth is 2 and number is 65\n",
      "lenth is 2 and number is 66\n",
      "lenth is 2 and number is 67\n",
      "lenth is 2 and number is 68\n",
      "lenth is 2 and number is 69\n",
      "lenth is 2 and number is 70\n",
      "lenth is 2 and number is 71\n",
      "lenth is 2 and number is 72\n",
      "lenth is 2 and number is 73\n",
      "lenth is 2 and number is 74\n",
      "lenth is 2 and number is 75\n",
      "lenth is 2 and number is 76\n",
      "lenth is 2 and number is 77\n",
      "lenth is 2 and number is 78\n",
      "lenth is 2 and number is 79\n",
      "lenth is 2 and number is 80\n",
      "lenth is 2 and number is 81\n",
      "lenth is 2 and number is 82\n",
      "lenth is 2 and number is 83\n",
      "lenth is 2 and number is 84\n",
      "lenth is 2 and number is 85\n",
      "lenth is 2 and number is 86\n",
      "lenth is 2 and number is 87\n",
      "lenth is 2 and number is 88\n",
      "lenth is 2 and number is 89\n",
      "lenth is 2 and number is 90\n",
      "lenth is 2 and number is 91\n",
      "lenth is 2 and number is 92\n",
      "lenth is 2 and number is 93\n",
      "lenth is 2 and number is 94\n",
      "lenth is 2 and number is 95\n",
      "lenth is 2 and number is 96\n",
      "lenth is 2 and number is 97\n",
      "lenth is 2 and number is 98\n",
      "lenth is 2 and number is 99\n",
      "[1, 2, 3, 4, 5, 6, 7, 8, 9, 89]\n"
     ]
    }
   ],
   "source": [
    "# 2.\tWrite a Python program to print all disarium numbers between 1 to 100?\n",
    "\n",
    "a = []\n",
    "for i in range(1, 100):\n",
    "    number = number1 = i\n",
    "    sum = 0    \n",
    "    def Num_lenth(n):\n",
    "        length = 0\n",
    "        while(n!=0):\n",
    "            n = n//10\n",
    "            length+=1\n",
    "        return length\n",
    "\n",
    "    len = Num_lenth(number)\n",
    "\n",
    "    print(f\"lenth is {len} and number is {number1}\")\n",
    "    i=0\n",
    "    temp =0\n",
    "    while(number>0):\n",
    "        temp =number%10\n",
    "        sum = sum + int(temp**len)\n",
    "        number =number//10\n",
    "        len -=1\n",
    "#         print(sum)\n",
    "\n",
    "    if(number1 == sum):\n",
    "#         print(f\"this is Disarium Number = {number1}\")\n",
    "        a.append(number1)\n",
    "print(a)\n",
    "   \n",
    "\n",
    "    "
   ]
  },
  {
   "cell_type": "code",
   "execution_count": 3,
   "id": "c4fe0069",
   "metadata": {},
   "outputs": [
    {
     "name": "stdout",
     "output_type": "stream",
     "text": [
      "2\n",
      "4\n",
      "11 is not a happy number\n"
     ]
    }
   ],
   "source": [
    "# 3.\tWrite a Python program to check if the given number is Happy Number?\n",
    "def isHappyNumber(num):    \n",
    "    rem = sum = 0;    \n",
    "        \n",
    "    \n",
    "    while(num > 0):    \n",
    "        rem = num%10;    \n",
    "        sum = sum + (rem*rem);    \n",
    "        num = num//10;\n",
    "#         print(sum)\n",
    "    return sum;  \n",
    "\n",
    "\n",
    "num = 11;    \n",
    "result = num;    \n",
    "     \n",
    "while(result != 1 and result != 4):    \n",
    "    result = isHappyNumber(result);\n",
    "    print(result)\n",
    "     \n",
    "#Happy number always ends with 1    \n",
    "if(result == 1):    \n",
    "    print(str(num) + \" is a happy number\");    \n",
    "#Unhappy number ends in a cycle of repeating numbers which contain 4    \n",
    "elif(result == 4):    \n",
    "    print(str(num) + \" is not a happy number\");   "
   ]
  },
  {
   "cell_type": "code",
   "execution_count": 4,
   "id": "d86285f0",
   "metadata": {},
   "outputs": [
    {
     "name": "stdout",
     "output_type": "stream",
     "text": [
      "is a happy number [1, 7, 10, 13, 19, 23, 28, 31, 32, 44, 49, 68, 70, 79, 82, 86, 91, 94, 97]\n"
     ]
    }
   ],
   "source": [
    "# 4.\tWrite a Python program to print all happy numbers between 1 and 100?\n",
    "\n",
    "a11 =[]\n",
    "def isHappyNumber(num):\n",
    "    rem = sum = 0\n",
    "    while (num > 0):\n",
    "        rem = num % 10;\n",
    "        sum = sum + (rem * rem)\n",
    "        num = num // 10\n",
    "#         print(sum)\n",
    "    return sum;\n",
    "\n",
    "for i in range(1, 100):\n",
    "    num = i\n",
    "    result = num\n",
    "\n",
    "\n",
    "    while (result != 1 and result != 4):\n",
    "        result = isHappyNumber(result)\n",
    "\n",
    "    if (result == 1):\n",
    "        a11.append(num)\n",
    "print(\"is a happy number\", a11)\n",
    "\n",
    "\n",
    "\n",
    "#Unhappy number ends in a cycle of repeating numbers which contain 4    \n",
    "#     elif(result == 4):    \n",
    "#         print(str(num) + \" is not a happy number\");   "
   ]
  },
  {
   "cell_type": "code",
   "execution_count": 5,
   "id": "60ff3eaa",
   "metadata": {},
   "outputs": [
    {
     "data": {
      "text/plain": [
       "[1, 7, 10, 13, 19, 23, 28, 31, 32, 44, 49, 68, 70, 79, 82, 86, 91, 94, 97]"
      ]
     },
     "execution_count": 5,
     "metadata": {},
     "output_type": "execute_result"
    }
   ],
   "source": [
    "a11"
   ]
  },
  {
   "cell_type": "code",
   "execution_count": 31,
   "id": "d44a05fa",
   "metadata": {},
   "outputs": [
    {
     "name": "stdout",
     "output_type": "stream",
     "text": [
      "not a Harshad number\n"
     ]
    }
   ],
   "source": [
    "# 5.\tWrite a Python program to determine whether the given number is a Harshad Number?\n",
    "# num = 153\n",
    "# sum = 0\n",
    "\n",
    "def sum_d(num):\n",
    "    sum = tmp =0    \n",
    "    while(num>0):       \n",
    "        tmp =num%10\n",
    "#         print(\"sdsd\",tmp)\n",
    "        sum = sum+tmp\n",
    "        num =num//10\n",
    "#         print(sum)\n",
    "    return sum\n",
    "        \n",
    "\n",
    "\n",
    "def Harshad(n):\n",
    "    if (n%sum_d(n) == 0):\n",
    "        print(f\"given number is Harshad Number={n}\")\n",
    "    else:\n",
    "        print(\"not a Harshad number\")\n",
    "    \n",
    "Harshad(33)"
   ]
  },
  {
   "cell_type": "code",
   "execution_count": 42,
   "id": "b6d31fc7",
   "metadata": {},
   "outputs": [
    {
     "name": "stdout",
     "output_type": "stream",
     "text": [
      "Enter your Number\n",
      "23\n",
      "4\n",
      "Enter your Number\n"
     ]
    }
   ],
   "source": [
    "# 6.\tWrite a Python program to print all pronic numbers between 1 and 100?\n",
    "\n",
    "import math\n",
    "c = int(input(\"Enter your Number\\n\"))\n",
    "pro = int(math.sqrt(c))\n",
    "print(pro)\n",
    "if(c == pro*(pro+1)):\n",
    "    print(\"Number is pronic Number\")\n",
    "else: \n",
    "    print(\"Number is Not pronic Number\")"
   ]
  },
  {
   "cell_type": "code",
   "execution_count": null,
   "id": "9b9082bf",
   "metadata": {},
   "outputs": [],
   "source": []
  },
  {
   "cell_type": "code",
   "execution_count": null,
   "id": "b4b6c2b4",
   "metadata": {},
   "outputs": [],
   "source": []
  }
 ],
 "metadata": {
  "kernelspec": {
   "display_name": "Python 3 (ipykernel)",
   "language": "python",
   "name": "python3"
  },
  "language_info": {
   "codemirror_mode": {
    "name": "ipython",
    "version": 3
   },
   "file_extension": ".py",
   "mimetype": "text/x-python",
   "name": "python",
   "nbconvert_exporter": "python",
   "pygments_lexer": "ipython3",
   "version": "3.10.4"
  }
 },
 "nbformat": 4,
 "nbformat_minor": 5
}
